{
  "metadata": {
    "kernelspec": {
      "language": "python",
      "display_name": "Python 3",
      "name": "python3"
    },
    "language_info": {
      "name": "python",
      "version": "3.7.12",
      "mimetype": "text/x-python",
      "codemirror_mode": {
        "name": "ipython",
        "version": 3
      },
      "pygments_lexer": "ipython3",
      "nbconvert_exporter": "python",
      "file_extension": ".py"
    },
    "colab": {
      "name": "mh-predict-accident-risk-score-for-postcode-model.ipynb",
      "provenance": [],
      "collapsed_sections": []
    }
  },
  "nbformat_minor": 0,
  "nbformat": 4,
  "cells": [
    {
      "cell_type": "markdown",
      "source": [
        "### Introduction\n",
        "####  Machine Learning model to predict Accident Risk Index by using area/district level accident data."
      ],
      "metadata": {
        "id": "tVnuDb1CscTz"
      }
    },
    {
      "cell_type": "markdown",
      "source": [
        "### Import the necessary packages."
      ],
      "metadata": {
        "id": "qhC4Y0evthv7"
      }
    },
    {
      "cell_type": "code",
      "source": [
        "import numpy as np # linear algebra\n",
        "import pandas as pd # data processing, CSV file I/O (e.g. pd.read_csv)\n",
        "import seaborn as sns # visualization\n",
        "from matplotlib import pyplot as plt # visualization\n",
        "%matplotlib inline\n",
        "import warnings\n",
        "import re\n",
        "warnings.filterwarnings(\"ignore\")"
      ],
      "metadata": {
        "id": "5NPr3xwYn8US",
        "execution": {
          "iopub.status.busy": "2022-04-06T10:47:06.047104Z",
          "iopub.execute_input": "2022-04-06T10:47:06.048601Z",
          "iopub.status.idle": "2022-04-06T10:47:06.611486Z",
          "shell.execute_reply.started": "2022-04-06T10:47:06.048444Z",
          "shell.execute_reply": "2022-04-06T10:47:06.610519Z"
        },
        "trusted": true
      },
      "execution_count": null,
      "outputs": []
    },
    {
      "cell_type": "markdown",
      "source": [
        "### Import train and test dataset"
      ],
      "metadata": {
        "id": "4v-Zy4gIn8UW"
      }
    },
    {
      "cell_type": "code",
      "source": [
        "train=pd.read_csv(\"../input/predict-accident-risk-score-for-unique-postcode/train.csv\")\n",
        "test=pd.read_csv(\"../input/predict-accident-risk-score-for-unique-postcode/test.csv\")"
      ],
      "metadata": {
        "id": "2-h0bcvHn8UZ",
        "execution": {
          "iopub.status.busy": "2022-04-06T10:53:13.874136Z",
          "iopub.execute_input": "2022-04-06T10:53:13.876441Z",
          "iopub.status.idle": "2022-04-06T10:53:17.473678Z",
          "shell.execute_reply.started": "2022-04-06T10:53:13.876352Z",
          "shell.execute_reply": "2022-04-06T10:53:17.472507Z"
        },
        "trusted": true
      },
      "execution_count": null,
      "outputs": []
    },
    {
      "cell_type": "markdown",
      "source": [
        "### conver the column names to lowercase and replace hyphrn(-) to underscore(_)."
      ],
      "metadata": {
        "id": "TOUlvvxRtoy-"
      }
    },
    {
      "cell_type": "code",
      "source": [
        "train=train.rename(columns={col:col.replace(\"-\",\"_\").lower() for col in train.columns.values})\n",
        "test=test.rename(columns={col:col.replace(\"-\",\"_\").lower() for col in test.columns.values})"
      ],
      "metadata": {
        "id": "36wNVVIx4LLi",
        "execution": {
          "iopub.status.busy": "2022-04-06T10:53:17.475346Z",
          "iopub.execute_input": "2022-04-06T10:53:17.475599Z",
          "iopub.status.idle": "2022-04-06T10:53:17.554383Z",
          "shell.execute_reply.started": "2022-04-06T10:53:17.475569Z",
          "shell.execute_reply": "2022-04-06T10:53:17.553492Z"
        },
        "trusted": true
      },
      "execution_count": null,
      "outputs": []
    },
    {
      "cell_type": "markdown",
      "source": [
        "### At postcode wise total casualties from the road accidents divided by the count of accidents, we can get the target column **accident_risk_index**. "
      ],
      "metadata": {
        "id": "OiLT3HRvtozF"
      }
    },
    {
      "cell_type": "code",
      "source": [
        "def ari(df):\n",
        "  df['total_casualties']=df.groupby('postcode')['number_of_casualties'].transform('sum')\n",
        "  df['accident_count']=df.groupby('postcode')['accident_id'].transform('count')\n",
        "  df['accident_risk_index']=round(df['total_casualties']/df['accident_count'],2)\n",
        "  return df\n",
        "\n",
        "\n",
        "\n",
        "train=ari(train)\n"
      ],
      "metadata": {
        "execution": {
          "iopub.status.busy": "2022-04-06T10:53:19.157756Z",
          "iopub.execute_input": "2022-04-06T10:53:19.158138Z",
          "iopub.status.idle": "2022-04-06T10:53:19.828033Z",
          "shell.execute_reply.started": "2022-04-06T10:53:19.158092Z",
          "shell.execute_reply": "2022-04-06T10:53:19.827058Z"
        },
        "trusted": true,
        "id": "k10_-wu3tozJ"
      },
      "execution_count": null,
      "outputs": []
    },
    {
      "cell_type": "markdown",
      "source": [
        "### Let's pre-process the data.\n",
        "\n",
        "### The postcode divided into four parts for instance **OX3 9AP**, the **OX** is area, **3** is district, **9** is sector, and **UP** is unit(street, property, organization).\n",
        "\n",
        "### In this data the postcode length is in various size.For instance,\n",
        "\n",
        "* DL145 8BG ->(length:9)\n",
        "* BN21 2XR ->(length:8)\n",
        "* OX3 9UP ->(length:7)\n",
        "* E5 9QH ->(length:6)\n",
        "* CB1 4 ->(length:5)\n",
        "* PE21 ->(length:4)\n",
        "* GU9 ->(length:3)\n",
        "* S8 ->(length:2)\n",
        "\n",
        "### Let's use the regex function to retrieve the four parts in postcode.\n",
        "\n",
        "### Date column feature engineering"
      ],
      "metadata": {
        "id": "-fDPQbt8tozN"
      }
    },
    {
      "cell_type": "code",
      "source": [
        "def pre_process(df):\n",
        "   \n",
        "    ###  create missing value indicator for missing columns\n",
        "  \n",
        "    for i in df.columns[df.isnull().any()]:\n",
        "        df[f\"{i}_isnull\"]=df[i].isnull().astype('int')\n",
        "    \n",
        "    \n",
        "    ### fill na rows with random value.\n",
        "\n",
        "    df['time']=df['time'].fillna('16:00')\n",
        "    df['road_surface_conditions']=df['road_surface_conditions'].fillna('Dry')\n",
        "    df['special_conditions_at_site']=df['special_conditions_at_site'].fillna('None')\n",
        "    \n",
        "    ### Extract the string highway number\n",
        "    \n",
        "    df['local_authority_(highway)_cat']=df['local_authority_(highway)'].str.extract(\"([A-Z]+)\")\n",
        "    #df['local_authority_(highway)_num']=df['local_authority_(highway)'].str.extract(\"([0-9]+)\")\n",
        "    #df['local_authority_(highway)_num']=df['local_authority_(highway)_num'].fillna(0)\n",
        "    #df['local_authority_(highway)_num']=df['local_authority_(highway)_num'].astype('int')\n",
        "    \n",
        "    ### Split the postcode\n",
        "    \n",
        "    def postcode_split(df):\n",
        "        df['postcode']=df['postcode'].str.strip()\n",
        "        df['area']=[re.search(r\"([A-Z]+)\",i).group(1) for i in df['postcode']]\n",
        "        df['district']=[re.search(r\"[A-Z]+([0-9]+)\",i).group(1) if re.search(r\"[A-Z]+([0-9]+)\",i) else \"none\" for i in df['postcode']]\n",
        "        df['sector']=[re.search(r\"(\\s[0-9]+)\",i).group(1) if re.search(r\"(\\s[0-9]+?)\",i) else \"none\" for i in df['postcode']]\n",
        "        df['unit']=[re.search(r\"\\s[0-9]+([A-Z]+)\",i).group(1) if re.search(r\"\\s[0-9]+?([A-Z]+)\",i) else \"none\" for i in df['postcode']]\n",
        "        return df\n",
        "\n",
        "    df=postcode_split(df)\n",
        "    \n",
        "    ### Date feature engineering\n",
        "    \n",
        "    def date_pre_process(df):\n",
        "        df['date_time']=pd.to_datetime(df[\"date\"].astype('str'))\n",
        "        #df[['Year', 'Month', 'Day', 'Hour', 'Minute']]=df[['Year', 'Month', 'Day', 'Hour', 'Minute']].astype('str')\n",
        "        #df['date'] = pd.to_datetime(df[['Year', 'Month', 'Day', 'Hour', 'Minute']],infer_datetime_format=True,errors='coerce').dt.tz_localize(None)\n",
        "        df['day']=df['date_time'].dt.day\n",
        "        df['day_label']=df['date_time'].dt.day_name()\n",
        "        df['day_number']=df['date_time'].dt.dayofweek\n",
        "        df['month_number']=df['date_time'].dt.month\n",
        "        df['month_label']=df['date_time'].dt.strftime('%b')\n",
        "        df['year_quarter']=df['date_time'].dt.quarter\n",
        "        df['week_of_year']=df['date_time'].dt.week\n",
        "        df['year']= df['date_time'].dt.year\n",
        "        df['dayofmonth'] = df['date_time'].dt.daysinmonth\n",
        "        df['dayofyear'] = df['date_time'].dt.day_of_year\n",
        "        df['hour']=pd.to_datetime(df[\"time\"],errors='coerce').dt.hour\n",
        "        df['minute']=pd.to_datetime(df[\"time\"],errors='coerce').dt.minute\n",
        "        return df\n",
        "\n",
        "    df=date_pre_process(df)\n",
        "    \n",
        "    ### covert months to seasons\n",
        "    \n",
        "    def month2seasons(x):\n",
        "        season=\"\"\n",
        "        if x in [12, 1, 2]:\n",
        "            season = 'Winter'\n",
        "        elif x in [3, 4, 5]:\n",
        "            season = 'Spring'\n",
        "        elif x in [6, 7, 8]:\n",
        "            season = 'Summer'\n",
        "        elif x in [9,10, 11]:\n",
        "            season = 'Autumn'\n",
        "        return season\n",
        "\n",
        "    df['seasons']=df['month_number'].apply(month2seasons)\n",
        "    \n",
        "    ### create features weekend, weekstart, monthstart, monthend.\n",
        "    \n",
        "    df['weekend']=df['day_label'].isin(['Saturday','Sunday']).astype('int')\n",
        "    df['weekstart']=df['day_label'].isin(['Monday']).astype('int')\n",
        "    df['is_month_start']=(df['date_time'].dt.is_month_start).astype('int')\n",
        "    df['is_month_end']=(df['date_time'].dt.is_month_end).astype('int')\n",
        "    \n",
        "    #### Convert hours to time od the day.\n",
        "    \n",
        "    def hours2timing(x):\n",
        "        if x in range(20,23):\n",
        "            timing = 'Night'\n",
        "        elif x in range(5,12):\n",
        "            timing = 'Morning'\n",
        "        elif x in range(12, 16):\n",
        "            timing = 'Afternoon'\n",
        "        elif x in range(16, 20):\n",
        "            timing = 'Evening'\n",
        "        elif x in [23,0,1,2,3,4]:\n",
        "            timing = 'Midnight'    \n",
        "        else:\n",
        "            timing = 'X'\n",
        "        return timing\n",
        "\n",
        "\n",
        "\n",
        "    df['timings']=df['hour'].apply(hours2timing) \n",
        "    \n",
        "    #df['grp']=df[ 'state']+'_'+df['area']+'_'+df['district']+'_'+df['sector']+'_'+df['unit']+'_'+df['day_number'].astype('str')+'_'+df['month_number'].astype('str')\n",
        "\n",
        "    ### Numerical columns feature engineering\n",
        "    \n",
        "    grpcol=[ 'state', 'area',\n",
        "    'district', 'sector', 'unit','day_number','month_number']\n",
        "\n",
        "    valcols=['accident_count','police_force']\n",
        "\n",
        "    def num_feat_eng(df):\n",
        "        for col1 in valcols:\n",
        "            df1=(df.groupby(grpcol)[col1].\n",
        "            agg({'min','median','mean','max'}).reset_index())\n",
        "            df1=df1.rename(columns={c:col1+'_'+c for c in df1.loc[:,df1.columns.str.match(\"(min|mean|median|max)\")]})\n",
        "            df=pd.merge(df,df1,on=grpcol,how='left')\n",
        "        return df\n",
        "\n",
        "    df=num_feat_eng(df)    \n",
        "\n",
        "    return df"
      ],
      "metadata": {
        "id": "Cz2SHey6CM-W",
        "execution": {
          "iopub.status.busy": "2022-04-06T10:53:23.254856Z",
          "iopub.execute_input": "2022-04-06T10:53:23.255496Z",
          "iopub.status.idle": "2022-04-06T10:53:23.286421Z",
          "shell.execute_reply.started": "2022-04-06T10:53:23.255424Z",
          "shell.execute_reply": "2022-04-06T10:53:23.285642Z"
        },
        "trusted": true
      },
      "execution_count": null,
      "outputs": []
    },
    {
      "cell_type": "markdown",
      "source": [
        "### Apply the pre-process steps to train data."
      ],
      "metadata": {
        "id": "h67Xu_Dztozh"
      }
    },
    {
      "cell_type": "code",
      "source": [
        "train=pre_process(train)"
      ],
      "metadata": {
        "id": "8L4TsvWhHDhz",
        "execution": {
          "iopub.status.busy": "2022-04-06T10:53:31.508129Z",
          "iopub.execute_input": "2022-04-06T10:53:31.508940Z",
          "iopub.status.idle": "2022-04-06T10:53:51.246492Z",
          "shell.execute_reply.started": "2022-04-06T10:53:31.508896Z",
          "shell.execute_reply": "2022-04-06T10:53:51.245402Z"
        },
        "trusted": true
      },
      "execution_count": null,
      "outputs": []
    },
    {
      "cell_type": "markdown",
      "source": [
        "### Import Necessary Packages"
      ],
      "metadata": {
        "id": "IWxrHRWOX4qX"
      }
    },
    {
      "cell_type": "code",
      "source": [
        "from sklearn.preprocessing import LabelEncoder,StandardScaler,PolynomialFeatures"
      ],
      "metadata": {
        "id": "SDheYvYwO22a",
        "execution": {
          "iopub.status.busy": "2022-04-06T10:54:41.004042Z",
          "iopub.execute_input": "2022-04-06T10:54:41.004432Z",
          "iopub.status.idle": "2022-04-06T10:54:43.151477Z",
          "shell.execute_reply.started": "2022-04-06T10:54:41.004395Z",
          "shell.execute_reply": "2022-04-06T10:54:43.150558Z"
        },
        "trusted": true
      },
      "execution_count": null,
      "outputs": []
    },
    {
      "cell_type": "markdown",
      "source": [
        "### Split predictor and target variables."
      ],
      "metadata": {
        "id": "c1-EBsyWtoz4"
      }
    },
    {
      "cell_type": "code",
      "source": [
        "for i,col in enumerate(train.columns):\n",
        "  print(f\"{i}_{col}\")\n"
      ],
      "metadata": {
        "id": "23jDGEReiC1E",
        "execution": {
          "iopub.status.busy": "2022-04-06T10:54:47.932680Z",
          "iopub.execute_input": "2022-04-06T10:54:47.933893Z",
          "iopub.status.idle": "2022-04-06T10:54:47.950177Z",
          "shell.execute_reply.started": "2022-04-06T10:54:47.933821Z",
          "shell.execute_reply": "2022-04-06T10:54:47.949380Z"
        },
        "trusted": true
      },
      "execution_count": null,
      "outputs": []
    },
    {
      "cell_type": "code",
      "source": [
        "X=train.iloc[:,np.r_[1:3,7:25,28,30:38,39,41,42,44,45,47:65]]\n",
        "y=train['accident_risk_index']"
      ],
      "metadata": {
        "id": "16O1g5myjb6d",
        "execution": {
          "iopub.status.busy": "2022-04-06T10:55:10.074022Z",
          "iopub.execute_input": "2022-04-06T10:55:10.074377Z",
          "iopub.status.idle": "2022-04-06T10:55:10.481755Z",
          "shell.execute_reply.started": "2022-04-06T10:55:10.074342Z",
          "shell.execute_reply": "2022-04-06T10:55:10.480659Z"
        },
        "trusted": true
      },
      "execution_count": null,
      "outputs": []
    },
    {
      "cell_type": "markdown",
      "source": [
        "### Create label encoder"
      ],
      "metadata": {
        "id": "3zpYgiYtto0F"
      }
    },
    {
      "cell_type": "code",
      "source": [
        "lbl=LabelEncoder()"
      ],
      "metadata": {
        "id": "OCE1JY49jcP3",
        "execution": {
          "iopub.status.busy": "2022-04-06T10:55:15.317632Z",
          "iopub.execute_input": "2022-04-06T10:55:15.317980Z",
          "iopub.status.idle": "2022-04-06T10:55:15.323842Z",
          "shell.execute_reply.started": "2022-04-06T10:55:15.317943Z",
          "shell.execute_reply": "2022-04-06T10:55:15.322882Z"
        },
        "trusted": true
      },
      "execution_count": null,
      "outputs": []
    },
    {
      "cell_type": "markdown",
      "source": [
        "### Encode the categorical columns using label encoder."
      ],
      "metadata": {
        "id": "ggTSY7Pmto0P"
      }
    },
    {
      "cell_type": "code",
      "source": [
        "for i in X.select_dtypes(include='object').columns.values:\n",
        "    X[i]=lbl.fit_transform(X[[i]])"
      ],
      "metadata": {
        "id": "hVulVq2tjcP7",
        "execution": {
          "iopub.status.busy": "2022-04-06T10:55:19.657654Z",
          "iopub.execute_input": "2022-04-06T10:55:19.658140Z",
          "iopub.status.idle": "2022-04-06T10:55:24.820241Z",
          "shell.execute_reply.started": "2022-04-06T10:55:19.658101Z",
          "shell.execute_reply": "2022-04-06T10:55:24.819338Z"
        },
        "trusted": true
      },
      "execution_count": null,
      "outputs": []
    },
    {
      "cell_type": "markdown",
      "source": [
        "### Install pycaret"
      ],
      "metadata": {
        "id": "wHfmHk-Zto0W"
      }
    },
    {
      "cell_type": "code",
      "source": [
        "!pip install -q pycaret[full]\n",
        "!pip install imbalanced-learn==0.7.0"
      ],
      "metadata": {
        "trusted": true,
        "id": "astzh_8wto0a"
      },
      "execution_count": null,
      "outputs": []
    },
    {
      "cell_type": "markdown",
      "source": [
        "### Import regression from pycaret"
      ],
      "metadata": {
        "id": "-cPv-mf1to0c"
      }
    },
    {
      "cell_type": "code",
      "source": [
        "from pycaret.regression import *"
      ],
      "metadata": {
        "execution": {
          "iopub.status.busy": "2022-04-06T10:55:27.167805Z",
          "iopub.execute_input": "2022-04-06T10:55:27.168066Z",
          "iopub.status.idle": "2022-04-06T10:55:31.023740Z",
          "shell.execute_reply.started": "2022-04-06T10:55:27.168040Z",
          "shell.execute_reply": "2022-04-06T10:55:31.022635Z"
        },
        "trusted": true,
        "id": "MQYF14Tpto0d"
      },
      "execution_count": null,
      "outputs": []
    },
    {
      "cell_type": "markdown",
      "source": [
        "### Create a new data frame "
      ],
      "metadata": {
        "id": "vt7AXkLeto0f"
      }
    },
    {
      "cell_type": "code",
      "source": [
        "train2=pd.concat([X,y],axis=1)"
      ],
      "metadata": {
        "execution": {
          "iopub.status.busy": "2022-04-06T10:55:33.178404Z",
          "iopub.execute_input": "2022-04-06T10:55:33.178700Z",
          "iopub.status.idle": "2022-04-06T10:55:33.253936Z",
          "shell.execute_reply.started": "2022-04-06T10:55:33.178670Z",
          "shell.execute_reply": "2022-04-06T10:55:33.252497Z"
        },
        "trusted": true,
        "id": "K9lhIomKto0g"
      },
      "execution_count": null,
      "outputs": []
    },
    {
      "cell_type": "markdown",
      "source": [
        "### Setup the data for model"
      ],
      "metadata": {
        "id": "UC19mhDEto0h"
      }
    },
    {
      "cell_type": "code",
      "source": [
        "ari_reg1 = setup(data = train2,\n",
        "                   target = 'accident_risk_index', session_id=123,\n",
        "                   #use_gpu =Tru\n",
        "                 \n",
        "                   fold=5,\n",
        "                   \n",
        "                   \n",
        "             data_split_shuffle = True, \n",
        "            create_clusters = False,\n",
        "            fold_strategy = 'groupkfold',\n",
        "            fold_groups = 'day_number',\n",
        "          \n",
        "        \n",
        "    \n",
        "            n_jobs = -1\n",
        "                 \n",
        "                  ) "
      ],
      "metadata": {
        "execution": {
          "iopub.status.busy": "2022-04-06T10:56:02.828535Z",
          "iopub.execute_input": "2022-04-06T10:56:02.829028Z",
          "iopub.status.idle": "2022-04-06T10:57:45.485004Z",
          "shell.execute_reply.started": "2022-04-06T10:56:02.828977Z",
          "shell.execute_reply": "2022-04-06T10:57:45.484026Z"
        },
        "trusted": true,
        "id": "81sL2lnrto0h"
      },
      "execution_count": null,
      "outputs": []
    },
    {
      "cell_type": "markdown",
      "source": [
        "### add the custome evaluation metric."
      ],
      "metadata": {
        "id": "SgCzidYAto0l"
      }
    },
    {
      "cell_type": "code",
      "source": [
        "add_metric('mean_squared_error','mean_squared_error',mean_squared_error,squared=False)"
      ],
      "metadata": {
        "execution": {
          "iopub.status.busy": "2022-04-06T10:57:45.487290Z",
          "iopub.execute_input": "2022-04-06T10:57:45.487558Z",
          "iopub.status.idle": "2022-04-06T10:57:45.497920Z",
          "shell.execute_reply.started": "2022-04-06T10:57:45.487526Z",
          "shell.execute_reply": "2022-04-06T10:57:45.496915Z"
        },
        "trusted": true,
        "id": "OkDF39goto0m"
      },
      "execution_count": null,
      "outputs": []
    },
    {
      "cell_type": "markdown",
      "source": [
        "### Compare the more than one regression models and get the top 3 best model."
      ],
      "metadata": {
        "id": "nSNmrYCwto0n"
      }
    },
    {
      "cell_type": "code",
      "source": [
        "top3 = compare_models(n_select=3,\n",
        "                      exclude = ['lar',  'rf', 'et', 'gbr', 'xgboost']\n",
        "                     )"
      ],
      "metadata": {
        "execution": {
          "iopub.status.busy": "2022-04-06T10:57:45.499432Z",
          "iopub.execute_input": "2022-04-06T10:57:45.499886Z",
          "iopub.status.idle": "2022-04-06T11:10:46.709661Z",
          "shell.execute_reply.started": "2022-04-06T10:57:45.499837Z",
          "shell.execute_reply": "2022-04-06T11:10:46.708546Z"
        },
        "trusted": true,
        "id": "-AqzGaCMto0o"
      },
      "execution_count": null,
      "outputs": []
    },
    {
      "cell_type": "markdown",
      "source": [
        "### Blend the top 3 model."
      ],
      "metadata": {
        "id": "Y3az0jZcto0q"
      }
    },
    {
      "cell_type": "code",
      "source": [
        "blender = blend_models(top3)"
      ],
      "metadata": {
        "execution": {
          "iopub.status.busy": "2022-04-06T11:11:16.807738Z",
          "iopub.execute_input": "2022-04-06T11:11:16.808094Z",
          "iopub.status.idle": "2022-04-06T11:15:38.606149Z",
          "shell.execute_reply.started": "2022-04-06T11:11:16.808061Z",
          "shell.execute_reply": "2022-04-06T11:15:38.605244Z"
        },
        "trusted": true,
        "id": "I8LXvX7_to00"
      },
      "execution_count": null,
      "outputs": []
    },
    {
      "cell_type": "markdown",
      "source": [
        "### Finalize the model for prediction."
      ],
      "metadata": {
        "id": "ZEYztSnzto02"
      }
    },
    {
      "cell_type": "code",
      "source": [
        "final = finalize_model(blender)"
      ],
      "metadata": {
        "execution": {
          "iopub.status.busy": "2022-04-06T11:15:38.607918Z",
          "iopub.execute_input": "2022-04-06T11:15:38.608353Z",
          "iopub.status.idle": "2022-04-06T11:21:36.927811Z",
          "shell.execute_reply.started": "2022-04-06T11:15:38.608313Z",
          "shell.execute_reply": "2022-04-06T11:21:36.926587Z"
        },
        "trusted": true,
        "id": "Nmgg5xpJto03"
      },
      "execution_count": null,
      "outputs": []
    },
    {
      "cell_type": "markdown",
      "source": [
        "### Residual PLot"
      ],
      "metadata": {
        "id": "MBD5t8Zbto06"
      }
    },
    {
      "cell_type": "code",
      "source": [
        "plot_model(final, plot = 'residuals')"
      ],
      "metadata": {
        "execution": {
          "iopub.status.busy": "2022-04-06T11:22:09.859072Z",
          "iopub.execute_input": "2022-04-06T11:22:09.859464Z",
          "iopub.status.idle": "2022-04-06T11:22:20.367457Z",
          "shell.execute_reply.started": "2022-04-06T11:22:09.859424Z",
          "shell.execute_reply": "2022-04-06T11:22:20.366303Z"
        },
        "trusted": true,
        "id": "6J4_H9fLto07"
      },
      "execution_count": null,
      "outputs": []
    },
    {
      "cell_type": "markdown",
      "source": [
        "### Prediction Error Plot"
      ],
      "metadata": {
        "id": "wx2oI4p6to08"
      }
    },
    {
      "cell_type": "code",
      "source": [
        "#Pycaret Voting Regressor\n",
        "plot_model(final, plot = 'error')"
      ],
      "metadata": {
        "execution": {
          "iopub.status.busy": "2022-04-06T11:22:51.738852Z",
          "iopub.execute_input": "2022-04-06T11:22:51.739981Z",
          "iopub.status.idle": "2022-04-06T11:22:55.860606Z",
          "shell.execute_reply.started": "2022-04-06T11:22:51.739918Z",
          "shell.execute_reply": "2022-04-06T11:22:55.859677Z"
        },
        "trusted": true,
        "id": "_QwFa2NQto0-"
      },
      "execution_count": null,
      "outputs": []
    },
    {
      "cell_type": "markdown",
      "source": [
        "### Feature Importance Plot"
      ],
      "metadata": {
        "id": "-8hMYxrXto1C"
      }
    },
    {
      "cell_type": "code",
      "source": [
        "plot_model(final.named_estimators_['catboost'], plot = 'feature_all')"
      ],
      "metadata": {
        "execution": {
          "iopub.status.busy": "2022-04-06T11:25:25.318738Z",
          "iopub.execute_input": "2022-04-06T11:25:25.319731Z",
          "iopub.status.idle": "2022-04-06T11:25:28.136987Z",
          "shell.execute_reply.started": "2022-04-06T11:25:25.319686Z",
          "shell.execute_reply": "2022-04-06T11:25:28.136298Z"
        },
        "trusted": true,
        "id": "_BDPO9khto1D"
      },
      "execution_count": null,
      "outputs": []
    },
    {
      "cell_type": "markdown",
      "source": [
        "### Save the model"
      ],
      "metadata": {
        "id": "jXIAlk5qto1F"
      }
    },
    {
      "cell_type": "code",
      "source": [
        "save_model(final,'final_blend_pycaret')"
      ],
      "metadata": {
        "execution": {
          "iopub.status.busy": "2022-04-06T11:27:02.848723Z",
          "iopub.execute_input": "2022-04-06T11:27:02.849025Z",
          "iopub.status.idle": "2022-04-06T11:27:03.147096Z",
          "shell.execute_reply.started": "2022-04-06T11:27:02.848996Z",
          "shell.execute_reply": "2022-04-06T11:27:03.146286Z"
        },
        "trusted": true,
        "id": "jMLtq_YAto1G"
      },
      "execution_count": null,
      "outputs": []
    },
    {
      "cell_type": "markdown",
      "source": [
        "### Import shap explainer"
      ],
      "metadata": {
        "id": "ZSjFEmiVto1H"
      }
    },
    {
      "cell_type": "code",
      "source": [
        "import shap"
      ],
      "metadata": {
        "execution": {
          "iopub.status.busy": "2022-04-06T11:27:30.117133Z",
          "iopub.execute_input": "2022-04-06T11:27:30.117566Z",
          "iopub.status.idle": "2022-04-06T11:27:30.656862Z",
          "shell.execute_reply.started": "2022-04-06T11:27:30.117524Z",
          "shell.execute_reply": "2022-04-06T11:27:30.656032Z"
        },
        "trusted": true,
        "id": "YecSL6Orto1I"
      },
      "execution_count": null,
      "outputs": []
    },
    {
      "cell_type": "markdown",
      "source": [
        "### Load the saved model"
      ],
      "metadata": {
        "id": "AV2m6GXTto1K"
      }
    },
    {
      "cell_type": "code",
      "source": [
        "saved_model=load_model('./final_blend_pycaret')"
      ],
      "metadata": {
        "execution": {
          "iopub.status.busy": "2022-04-06T11:27:32.947092Z",
          "iopub.execute_input": "2022-04-06T11:27:32.947438Z",
          "iopub.status.idle": "2022-04-06T11:27:32.976300Z",
          "shell.execute_reply.started": "2022-04-06T11:27:32.947404Z",
          "shell.execute_reply": "2022-04-06T11:27:32.974751Z"
        },
        "trusted": true,
        "id": "OpHrQUOLto1L"
      },
      "execution_count": null,
      "outputs": []
    },
    {
      "cell_type": "markdown",
      "source": [
        "### Transform the data by using saved model pre-process pipeline"
      ],
      "metadata": {
        "id": "wj_DhAgDto1N"
      }
    },
    {
      "cell_type": "code",
      "source": [
        "train_pipe = saved_model[:-1].transform(train2)"
      ],
      "metadata": {
        "execution": {
          "iopub.status.busy": "2022-04-06T11:27:42.951910Z",
          "iopub.execute_input": "2022-04-06T11:27:42.952236Z",
          "iopub.status.idle": "2022-04-06T11:28:12.878405Z",
          "shell.execute_reply.started": "2022-04-06T11:27:42.952180Z",
          "shell.execute_reply": "2022-04-06T11:28:12.877316Z"
        },
        "trusted": true,
        "id": "XXB7Ieaoto1O"
      },
      "execution_count": null,
      "outputs": []
    },
    {
      "cell_type": "markdown",
      "source": [
        "### By using shap tree explainer get the shap values."
      ],
      "metadata": {
        "id": "Ldn7_tX2to1P"
      }
    },
    {
      "cell_type": "code",
      "source": [
        "explainer = shap.TreeExplainer(saved_model.named_steps[\"trained_model\"].named_estimators_['catboost'])\n",
        "shap_values = explainer.shap_values(train_pipe)"
      ],
      "metadata": {
        "execution": {
          "iopub.status.busy": "2022-04-06T11:28:50.153877Z",
          "iopub.execute_input": "2022-04-06T11:28:50.154550Z",
          "iopub.status.idle": "2022-04-06T11:30:37.127230Z",
          "shell.execute_reply.started": "2022-04-06T11:28:50.154489Z",
          "shell.execute_reply": "2022-04-06T11:30:37.126452Z"
        },
        "trusted": true,
        "id": "2w2rU6Y7to1R"
      },
      "execution_count": null,
      "outputs": []
    },
    {
      "cell_type": "code",
      "source": [
        "shap.initjs()"
      ],
      "metadata": {
        "execution": {
          "iopub.status.busy": "2022-04-06T11:34:17.978034Z",
          "iopub.execute_input": "2022-04-06T11:34:17.978414Z",
          "iopub.status.idle": "2022-04-06T11:34:17.998488Z",
          "shell.execute_reply.started": "2022-04-06T11:34:17.978376Z",
          "shell.execute_reply": "2022-04-06T11:34:17.997513Z"
        },
        "trusted": true,
        "id": "_1aakdzLto1V"
      },
      "execution_count": null,
      "outputs": []
    },
    {
      "cell_type": "markdown",
      "source": [
        "### SHAP Feature Importance"
      ],
      "metadata": {
        "id": "pFUdwJ9zto1W"
      }
    },
    {
      "cell_type": "code",
      "source": [
        "shap.summary_plot(shap_values, train_pipe,plot_type='bar')"
      ],
      "metadata": {
        "execution": {
          "iopub.status.busy": "2022-04-06T11:39:34.703812Z",
          "iopub.execute_input": "2022-04-06T11:39:34.704249Z",
          "iopub.status.idle": "2022-04-06T11:39:35.797077Z",
          "shell.execute_reply.started": "2022-04-06T11:39:34.704212Z",
          "shell.execute_reply": "2022-04-06T11:39:35.796138Z"
        },
        "trusted": true,
        "id": "c1-cs30rto1X"
      },
      "execution_count": null,
      "outputs": []
    },
    {
      "cell_type": "markdown",
      "source": [
        "### Which feature impact the model"
      ],
      "metadata": {
        "id": "ZUCdSXVtto1b"
      }
    },
    {
      "cell_type": "code",
      "source": [
        "shap.summary_plot(shap_values, train_pipe)"
      ],
      "metadata": {
        "execution": {
          "iopub.status.busy": "2022-04-06T11:36:09.557638Z",
          "iopub.execute_input": "2022-04-06T11:36:09.558801Z",
          "iopub.status.idle": "2022-04-06T11:37:38.204733Z",
          "shell.execute_reply.started": "2022-04-06T11:36:09.558738Z",
          "shell.execute_reply": "2022-04-06T11:37:38.203538Z"
        },
        "trusted": true,
        "id": "hdlgszKsto1c"
      },
      "execution_count": null,
      "outputs": []
    },
    {
      "cell_type": "markdown",
      "source": [
        "### Feature impact on single observation"
      ],
      "metadata": {
        "id": "wIuYAPA8to1d"
      }
    },
    {
      "cell_type": "code",
      "source": [
        "idx = 10\n",
        "shap.force_plot(explainer.expected_value, shap_values[idx,:], \n",
        "train_pipe.iloc[idx,:],matplotlib=True)"
      ],
      "metadata": {
        "execution": {
          "iopub.status.busy": "2022-04-06T11:35:54.258397Z",
          "iopub.execute_input": "2022-04-06T11:35:54.258878Z",
          "iopub.status.idle": "2022-04-06T11:35:55.661503Z",
          "shell.execute_reply.started": "2022-04-06T11:35:54.258839Z",
          "shell.execute_reply": "2022-04-06T11:35:55.660600Z"
        },
        "trusted": true,
        "id": "W2hdiAhpto1e"
      },
      "execution_count": null,
      "outputs": []
    },
    {
      "cell_type": "markdown",
      "source": [
        "### Apply the pre-process steps to test data."
      ],
      "metadata": {
        "id": "6e81mntoto1h"
      }
    },
    {
      "cell_type": "code",
      "source": [
        "test['accident_count']=test.groupby('postcode')['accident_id'].transform('count')"
      ],
      "metadata": {
        "id": "RnbIXM9neUkp",
        "trusted": true
      },
      "execution_count": null,
      "outputs": []
    },
    {
      "cell_type": "code",
      "source": [
        "test=pre_process(test)"
      ],
      "metadata": {
        "id": "37OwU_zUTCEt",
        "trusted": true
      },
      "execution_count": null,
      "outputs": []
    },
    {
      "cell_type": "markdown",
      "source": [
        "### Prediction using final model"
      ],
      "metadata": {
        "id": "84G5bqH-uNrR"
      }
    },
    {
      "cell_type": "code",
      "source": [
        "pred=(predict_model(final, data=test.loc[:,X.columns])['Label']).round()"
      ],
      "metadata": {
        "id": "DMB13XSZuOoX"
      },
      "execution_count": null,
      "outputs": []
    },
    {
      "cell_type": "markdown",
      "source": [
        "### Result dataframe."
      ],
      "metadata": {
        "id": "iTrPvz9uvFhk"
      }
    },
    {
      "cell_type": "code",
      "source": [
        "res=pd.DataFrame({'postcode':test['postcode'],'Accident_risk_index':pred})"
      ],
      "metadata": {
        "id": "rM8dlpa6T_gI"
      },
      "execution_count": null,
      "outputs": []
    },
    {
      "cell_type": "markdown",
      "source": [
        "### Accident_risk_index meant at group by postcode."
      ],
      "metadata": {
        "id": "C9yP00Qluyqe"
      }
    },
    {
      "cell_type": "code",
      "source": [
        "res1=res.groupby('postcode').agg({'Accident_risk_index':'mean'}).reset_index()"
      ],
      "metadata": {
        "id": "qNrcu6_lVrHF"
      },
      "execution_count": null,
      "outputs": []
    },
    {
      "cell_type": "markdown",
      "source": [
        "### Write the cav file"
      ],
      "metadata": {
        "id": "gMBixnc-uuka"
      }
    },
    {
      "cell_type": "code",
      "source": [
        "res1.to_csv('Pycaret_Blend.csv',index=False)"
      ],
      "metadata": {
        "id": "MT7uEJM1unPt"
      },
      "execution_count": null,
      "outputs": []
    }
  ]
}